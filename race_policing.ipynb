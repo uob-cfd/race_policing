{
 "cells": [
  {
   "cell_type": "markdown",
   "id": "226874cf",
   "metadata": {},
   "source": [
    "# Data, Race, and Policing\n",
    "\n",
    "\n",
    "\n",
    "Work through the notebook from beginning to the end.\n",
    "\n",
    "Execute any cells that you are given, and fill in the ones that you need to\n",
    "fill in.\n",
    "\n",
    "You will see the marks for each question in the comments.\n",
    "\n",
    "To start, execute the cell below, that gets the standard libraries and settings\n",
    "for plots.\n",
    "\n",
    "As usual, it also loads the OKpy testing library.  Further down in the\n",
    "notebook, there are OKpy cells for you to run for many of the questions.  **If\n",
    "the OKpy cells pass, it doesn't mean you have the marks for that question, it\n",
    "only means you are on the right track**."
   ]
  },
  {
   "cell_type": "code",
   "execution_count": null,
   "id": "2d31a1d5",
   "metadata": {},
   "outputs": [],
   "source": [
    "# Don't change this cell; just run it.\n",
    "\n",
    "# Load the Numpy array module with variable name 'np'.\n",
    "import numpy as np\n",
    "# Load Pandas data table module with variable name 'pd'.\n",
    "import pandas as pd\n",
    "# Turn on a setting to use Pandas more safely.\n",
    "# We will discuss this setting later.\n",
    "pd.set_option('mode.chained_assignment', 'raise')\n",
    "# Load \"pyplot\" submodule of Matplotlib plotting module\n",
    "# with variable name \"plt\".\n",
    "import matplotlib.pyplot as plt\n",
    "# Make plots look a little more fancy.\n",
    "plt.style.use('fivethirtyeight')\n",
    "# Tell plotting package to display plots inside the notebook.\n",
    "%matplotlib inline\n",
    "\n",
    "# Load the OKpy testing library\n",
    "from client.api.notebook import Notebook\n",
    "ok = Notebook('race_policing.ok')"
   ]
  },
  {
   "cell_type": "markdown",
   "id": "a9bfdeb4",
   "metadata": {},
   "source": [
    "## Ethnicity in the West Midlands"
   ]
  },
  {
   "cell_type": "markdown",
   "id": "68329ac5",
   "metadata": {},
   "source": [
    "We wonder whether the West Midlands police force is, for whatever reason, more\n",
    "likely to stop and search not-white people than white people.   To work out\n",
    "whether this is true, we first have to consider the proportions of white and\n",
    "not-white people in the population.  If 80% of the people that the police stop\n",
    "are black, that sounds like bias, unless 80% of the population are black, in\n",
    "which case they may be treating everyone equally.\n",
    "\n",
    "We need to compare the percentages of the different ethnicities in the West Midlands with the ethnicities of those stopped and searched.\n",
    "\n",
    "Our first task is therefore to find the proportions of each race / ethnicity in the West midlands."
   ]
  },
  {
   "cell_type": "markdown",
   "id": "fd7e61ef",
   "metadata": {},
   "source": [
    "### Ethnicity data"
   ]
  },
  {
   "cell_type": "markdown",
   "id": "6c528815",
   "metadata": {},
   "source": [
    "The government publishes\n",
    "[statistics](https://www.ethnicity-facts-figures.service.gov.uk/british-population/national-and-regional-populations/regional-ethnic-diversity/latest)\n",
    "on the percentages of each ethnic group in the regions of England and Wales.\n",
    "\n",
    "Here you are reading the [source data for Areas of England and Wales by\n",
    "ethnicity](https://www.ethnicity-facts-figures.service.gov.uk/british-population/national-and-regional-populations/regional-ethnic-diversity/latest/downloads/areas-of-england-and-wales-by-ethnicity.csv).\n",
    "\n",
    "I downloaded the file\n",
    "[areas-of-england-and-wales-by-ethnicity](./areas-of-england-and-wales-by-ethnicity.csv)\n",
    "from the link above."
   ]
  },
  {
   "cell_type": "markdown",
   "id": "138d8021",
   "metadata": {},
   "source": [
    "Execute the following cell to load the data as a Pandas data frame, and then\n",
    "display the first five rows."
   ]
  },
  {
   "cell_type": "code",
   "execution_count": null,
   "id": "38bacf20",
   "metadata": {},
   "outputs": [],
   "source": [
    "# Load the data from a file in the same directory as the notebook.\n",
    "regions_by_eth = pd.read_csv('areas-of-england-and-wales-by-ethnicity.csv')\n",
    "# Show the first five rows.\n",
    "regions_by_eth.head()"
   ]
  },
  {
   "cell_type": "markdown",
   "id": "5c7a5bd8",
   "metadata": {},
   "source": [
    "Now your turn.  First get the \"Region\" column of the data frame into its own\n",
    "variable.  A bit further down, you are going to use this to select the \"West\n",
    "Midlands\" rows from this data frame."
   ]
  },
  {
   "cell_type": "code",
   "execution_count": null,
   "id": "0a282ef5",
   "metadata": {},
   "outputs": [],
   "source": [
    "#- Put the \"Region\" column of the data frame into a new variable \"regions\".\n",
    "#- 2 marks / 100 (total 2 so far)\n",
    "regions = ...\n",
    "# Show the result\n",
    "regions"
   ]
  },
  {
   "cell_type": "markdown",
   "id": "7e2f1c9e",
   "metadata": {},
   "source": [
    "Here is an OKpy test, to see if you are on the right track. Remember - these\n",
    "tests only check whether you are on the right track. If the test passes, it\n",
    "does not mean you have full marks for the question."
   ]
  },
  {
   "cell_type": "code",
   "execution_count": null,
   "id": "1ea0aefb",
   "metadata": {},
   "outputs": [],
   "source": [
    "# Check answer is on right track.\n",
    "_ = ok.grade('q_1_regions')"
   ]
  },
  {
   "cell_type": "markdown",
   "id": "f4b6b0e9",
   "metadata": {},
   "source": [
    "Make a variable `is_west_midlands` that is a Series with `True` in the\n",
    "elements corresponding to the \"West Midlands\" elements in `regions` and\n",
    "`False` otherwise."
   ]
  },
  {
   "cell_type": "code",
   "execution_count": null,
   "id": "002ff37e",
   "metadata": {},
   "outputs": [],
   "source": [
    "#- \"is_west_midlands\" should have True for elements corresponding to West\n",
    "#- Midlands, False otherwise.\n",
    "#- 3 marks / 100 (total 5 so far)\n",
    "is_west_midlands = ...\n",
    "# Show the first five values\n",
    "is_west_midlands.head()"
   ]
  },
  {
   "cell_type": "code",
   "execution_count": null,
   "id": "214de2ea",
   "metadata": {},
   "outputs": [],
   "source": [
    "# Check answer is on right track.\n",
    "_ = ok.grade('q_2_is_wm')"
   ]
  },
  {
   "cell_type": "markdown",
   "id": "5498b7d2",
   "metadata": {},
   "source": [
    "Make a new data frame `west_midlands_by_eth` that only contains the rows from\n",
    "`regions_by_eth` that correspond to the West Midlands."
   ]
  },
  {
   "cell_type": "code",
   "execution_count": null,
   "id": "7b2cf452",
   "metadata": {},
   "outputs": [],
   "source": [
    "#- 5 marks / 100 (total 10 so far)\n",
    "west_midlands_by_eth = ...\n",
    "# Show the first five rows.\n",
    "west_midlands_by_eth.head()"
   ]
  },
  {
   "cell_type": "code",
   "execution_count": null,
   "id": "a61edbb8",
   "metadata": {},
   "outputs": [],
   "source": [
    "# Check answer is on right track.\n",
    "_ = ok.grade('q_3_wm_by_eth')"
   ]
  },
  {
   "cell_type": "markdown",
   "id": "53c45aca",
   "metadata": {},
   "source": [
    "`west_midlands_by_eth` has percentages of the population, for each ethnicity.\n",
    "For example, you should see above that the \"White British\" ethnicity is the\n",
    "ethnicity claimed by a large proportion of the population of West Midlands.\n",
    "\n",
    "Now you are building up to making a horizontal bar plot of the different\n",
    "ethnicities in the West Midlands.  Start by sorting the data frame, with the\n",
    "most common ethnicity first.\n",
    "\n",
    "Remember, the name of the percent column is `\"%\"` (a string with a single\n",
    "character - the percent sign)."
   ]
  },
  {
   "cell_type": "code",
   "execution_count": null,
   "id": "a6dd13b7",
   "metadata": {},
   "outputs": [],
   "source": [
    "#- Make a new data frame \"west_midlands_sorted\" by sorting\n",
    "#- \"west_midlands_by_eth\" by the \"%\" column.  Largest values should come first.\n",
    "#- 5 marks / 100 (total 15 so far)\n",
    "west_midlands_sorted = ...\n",
    "# Show first five rows of the sorted data frame.\n",
    "west_midlands_sorted.head()"
   ]
  },
  {
   "cell_type": "code",
   "execution_count": null,
   "id": "d337eb93",
   "metadata": {},
   "outputs": [],
   "source": [
    "# Check answer is on right track.\n",
    "_ = ok.grade('q_4_wm_sorted')"
   ]
  },
  {
   "cell_type": "markdown",
   "id": "bac3c2bd",
   "metadata": {},
   "source": [
    "Now display a horizontal bar plot of the ethnicities.  When you have done this\n",
    "correctly, you should see the ethnicities listed on the left of the vertical\n",
    "axis, with the *least* common ethnicity first.  The horizontal axis corresponds\n",
    "to percent.  You should see coloured bars going from left to right, with the\n",
    "longest bar at the bottom, corresponding to the percentage of \"White British\".\n",
    "\n",
    "*Hint*: Use tab completion to investigate the methods contained in\n",
    "`west_midlands_sorted.plot` for a plausible plot type to try."
   ]
  },
  {
   "cell_type": "code",
   "execution_count": null,
   "id": "c4a8d8b8",
   "metadata": {},
   "outputs": [],
   "source": [
    "#- 5 marks / 100 (total 20 so far)\n",
    "west_midlands_sorted..."
   ]
  },
  {
   "cell_type": "markdown",
   "id": "c6ef091f",
   "metadata": {},
   "source": [
    "This is a little more difficult.   In the next section of this assignment,\n",
    "you are going to use the value for the percentage of the West Midlands\n",
    "population that is \"White British\".  It is useful to fetch that number and\n",
    "store it in a variable.\n",
    "\n",
    "Try doing that in the next cell.  Run the OKpy test to see if you've got the\n",
    "right answer.  Please don't type in the answer, but write code to fetch the\n",
    "right number from a suitable data frame."
   ]
  },
  {
   "cell_type": "code",
   "execution_count": null,
   "id": "81e053be",
   "metadata": {},
   "outputs": [],
   "source": [
    "#- Put the West Midlands percentage of \"White British\" into a new variable\n",
    "#- \"white_british_pct\".  You will probably need more than one line of code.\n",
    "#- 5 marks / 100 (total 25 so far)\n",
    "...\n",
    "white_british_pct = ...\n",
    "# Show the result converted to a simple floating point value.\n",
    "float(white_british_pct)"
   ]
  },
  {
   "cell_type": "code",
   "execution_count": null,
   "id": "e6efa09c",
   "metadata": {},
   "outputs": [],
   "source": [
    "_ = ok.grade('q_6_wb_pct')"
   ]
  },
  {
   "cell_type": "markdown",
   "id": "f7c0f7f5",
   "metadata": {},
   "source": [
    "## Stop and search"
   ]
  },
  {
   "cell_type": "markdown",
   "id": "48c03e4a",
   "metadata": {},
   "source": [
    "Now we analyze the stop and search data.  We will compare the stop and search\n",
    "data to the ethnicity proportions we found above.\n",
    "\n",
    "The UK police publish various statistics about their work at\n",
    "<https://data.police.uk/data>.\n",
    "\n",
    "I went to this site, selected \"September 2020\" as the start and end of the\n",
    "\"Date range\", selected \"West Midlands Police\" in the \"Forces\" panel,\n",
    "unselected \"include crime data\" and selected \"include stop and search data\".\n",
    "Then I clicked \"Generate\" and downloaded, unpacked the generated zip file. This\n",
    "gave me the file in this directory:\n",
    "[2020-09-west-midlands-stop-and-search.csv](./2020-09-west-midlands-stop-and-search.csv).\n",
    "\n",
    "The rows in this data file are records of all the stop-search incidents by\n",
    "members of the West Midlands police force during September 2020.\n",
    "\n",
    "First load this file as a data frame."
   ]
  },
  {
   "cell_type": "code",
   "execution_count": null,
   "id": "2bbab5c6",
   "metadata": {},
   "outputs": [],
   "source": [
    "#- Load the file \"2020-09-west-midlands-stop-and-search.csv\"\n",
    "#- as a data frame.\n",
    "#- Put the new data frame into a variable \"stop_search\".\n",
    "#- 2 marks / 100 (total 27 so far)\n",
    "stop_search = ...\n",
    "# Show the first 5 rows.\n",
    "stop_search.head()"
   ]
  },
  {
   "cell_type": "code",
   "execution_count": null,
   "id": "be73d621",
   "metadata": {},
   "outputs": [],
   "source": [
    "_ = ok.grade('q_7_stop_search')"
   ]
  },
  {
   "cell_type": "markdown",
   "id": "d3588d5d",
   "metadata": {},
   "source": [
    "We are particularly interested in two columns - `Self-defined ethnicity` and\n",
    "`Outcome`.\n",
    "\n",
    "We return to the question as to whether the West Midlands police force is, for\n",
    "whatever reason, more likely to stop not-white people than white people.  This\n",
    "boils down the question whether the proportion of not-white people stopped and\n",
    "searched is very different from the proportion of not-white people in the\n",
    "population. We need to compare the proportions of the different ethnicities in\n",
    "the West Midlands with the ethnicities of those stopped and searched.\n",
    "\n",
    "We are about to see that is a problem, because the categories in this table\n",
    "are not quite the same as the categories in the demographic data you analyzed\n",
    "in the early parts of this notebook."
   ]
  },
  {
   "cell_type": "code",
   "execution_count": null,
   "id": "c97747bb",
   "metadata": {},
   "outputs": [],
   "source": [
    "#- Make a new variable \"ethnicity\" that has the values from\n",
    "#- the \"Self-defined ethnicity\" column of \"stop_search\".\n",
    "#- 2 marks / 100 (total 29 so far)\n",
    "ethnicity = ...\n",
    "# Show the first five values\n",
    "ethnicity.head()"
   ]
  },
  {
   "cell_type": "code",
   "execution_count": null,
   "id": "71f96c71",
   "metadata": {},
   "outputs": [],
   "source": [
    "# Check you are on the right track.\n",
    "_ = ok.grade('q_8_ethnicity')"
   ]
  },
  {
   "cell_type": "markdown",
   "id": "185d46ae",
   "metadata": {},
   "source": [
    "Display the `type` of the `ethnicity` variable."
   ]
  },
  {
   "cell_type": "code",
   "execution_count": null,
   "id": "9d464ae1",
   "metadata": {},
   "outputs": [],
   "source": [
    "# Run this cell.\n",
    "type(ethnicity)"
   ]
  },
  {
   "cell_type": "markdown",
   "id": "b56c0603",
   "metadata": {},
   "source": [
    "You should find that `ethnicity` is a Pandas `Series` type.  That is the type\n",
    "Pandas uses to contain columns of data.\n",
    "\n",
    "This series has the recorded ethnicities for each person who suffered a stop\n",
    "and search.  We would like to see all the different ethnicities, with a count\n",
    "of how many times they appear.\n",
    "\n",
    "Use the `value_counts` method of `ethnicity` to get the unique values in\n",
    "`ethnicity`, along with the number of times these values occur.  Put the\n",
    "results into the variable `eth_counts`.\n"
   ]
  },
  {
   "cell_type": "code",
   "execution_count": null,
   "id": "a8f03af3",
   "metadata": {},
   "outputs": [],
   "source": [
    "#- 3 marks / 100 (total 32 so far)\n",
    "eth_counts = ...\n",
    "# Show the result\n",
    "eth_counts"
   ]
  },
  {
   "cell_type": "code",
   "execution_count": null,
   "id": "846472a4",
   "metadata": {},
   "outputs": [],
   "source": [
    "# Check you are on the right track.\n",
    "_ = ok.grade('q_9_eth_counts')"
   ]
  },
  {
   "cell_type": "markdown",
   "id": "fe35844a",
   "metadata": {},
   "source": [
    "Compare these ethnicity labels to the ones in the previous section.  They do\n",
    "not correspond exactly.  We need to recode the ethnicities recorded in this\n",
    "column to match those in the previous section.\n",
    "\n",
    "To do this, we can use a recoding function.  Doing this needs a little more\n",
    "machinery that you have covered so far, so the next few cells do the recoding\n",
    "for you.\n",
    "\n",
    "First I write my own function, that takes a single argument `value`.  `value`\n",
    "will be a single ethnicity value from the `ethnicity` series above.  It\n",
    "returns my best guess at the corresponding ethnicity from the demographics\n",
    "data in the other table.  For example, I guess that both of the  \"White -\n",
    "English ...\" and \"White - Irish\" ethnicities in the series correspond to the\n",
    "\"White British\" category in the demographics table from the other table.\n",
    "\n",
    "Do not worry about the details of this function, just run the cell below to\n",
    "define it."
   ]
  },
  {
   "cell_type": "code",
   "execution_count": null,
   "id": "55906614",
   "metadata": {},
   "outputs": [],
   "source": [
    "# A function to recode ethnicity.\n",
    "# Run this cell to define the function.\n",
    "def recode_eth(value):\n",
    "    \"\"\" Recode ethnicity values to match standard\n",
    "\n",
    "    Accept ethnicity string as used in \"Self-defined ethnicity\".\n",
    "    Return matching ethnicity used by the government statistics\n",
    "    on ethnicity.\n",
    "    \"\"\"\n",
    "    if pd.isna(value):  # Missing value\n",
    "        return np.nan\n",
    "    if value.startswith('Asian'):\n",
    "        return 'Asian'\n",
    "    if value.startswith('Mixed'):\n",
    "        return 'Mixed'\n",
    "    if value.startswith('Black'):\n",
    "        return 'Black'\n",
    "    if value.startswith('White - English'):\n",
    "        return 'White British'\n",
    "    if value.startswith('White - Irish'):\n",
    "        return 'White British'\n",
    "    if value.startswith('White - Any other'):\n",
    "        return 'White other'\n",
    "    if value.startswith('Other ethnic group'):\n",
    "        return 'Other'\n",
    "    # If we didn't already return something, stop here\n",
    "    # with an error.\n",
    "    raise ValueError('Did not expect ethnicity ' + value)"
   ]
  },
  {
   "cell_type": "markdown",
   "id": "055ccd1f",
   "metadata": {},
   "source": [
    "The next couple of cells are just to show how the encoding function works. I\n",
    "call the function on a couple of the values that appear in the `ethnicity`\n",
    "series from the stop and search data."
   ]
  },
  {
   "cell_type": "code",
   "execution_count": null,
   "id": "5edf7818",
   "metadata": {},
   "outputs": [],
   "source": [
    "# Run this cell.\n",
    "# Show example of the recoding function in action\n",
    "recode_eth('Asian/Asian British - Indian')"
   ]
  },
  {
   "cell_type": "code",
   "execution_count": null,
   "id": "4528261f",
   "metadata": {},
   "outputs": [],
   "source": [
    "# Run this cell.\n",
    "# Another example\n",
    "recode_eth('White - Irish')"
   ]
  },
  {
   "cell_type": "markdown",
   "id": "5f9b8599",
   "metadata": {},
   "source": [
    "Last in this recoding sequence of cells, run this cell to \"apply\" the\n",
    "`recode_eth` function above to all the values in the `ethnicity` series in\n",
    "turn.  This returns a new series of the same length as `ethnicity`, but with\n",
    "the recoded values."
   ]
  },
  {
   "cell_type": "code",
   "execution_count": null,
   "id": "a7fa8bbd",
   "metadata": {},
   "outputs": [],
   "source": [
    "# Run this cell to use the \"apply\" method of \"ethnicity\",\n",
    "# and the \"recode_eth\" function above, to make a new variable\n",
    "# \"recoded_eth\".  This has the ethnicity values recoded to the\n",
    "# form used in the UK government demographics.\n",
    "recoded_eth = ethnicity.apply(recode_eth)\n",
    "# Display the first give values of \"recoded_eth\"\n",
    "recoded_eth.head()"
   ]
  },
  {
   "cell_type": "markdown",
   "id": "2ce49a4a",
   "metadata": {},
   "source": [
    "If you have run the cells above, you now have a new series called\n",
    "`recoded_eth`, with the recoded ethnicity values for each stop and search\n",
    "incident.\n",
    "\n",
    "Just to check, calculate the unique values in this new series, and the number\n",
    "of times each value appears."
   ]
  },
  {
   "cell_type": "code",
   "execution_count": null,
   "id": "6a674188",
   "metadata": {},
   "outputs": [],
   "source": [
    "#- Make a new variable \"recoded_eth_counts\" that has the unique values of\n",
    "#- \"recoded_eth\", and their counts.\n",
    "#- 2 marks / 100 (total 34 so far)\n",
    "recoded_eth_counts = ...\n",
    "# Show the values of \"recoded_eth_counts\"\n",
    "recoded_eth_counts"
   ]
  },
  {
   "cell_type": "code",
   "execution_count": null,
   "id": "8bc97ed0",
   "metadata": {},
   "outputs": [],
   "source": [
    "# Check you are on the right track.\n",
    "_ = ok.grade('q_10_recoded_eth_counts')"
   ]
  },
  {
   "cell_type": "markdown",
   "id": "d08c31a1",
   "metadata": {},
   "source": [
    "The counts in `recoded_eth_counts` are the total number of people from each\n",
    "ethnicity that were stopped and searched by the West Midlands police.  We want\n",
    "to compare these counts, by eye, using a horizontal bar graph.\n",
    "\n",
    "If you get the graph right, you should see the recoded ethnicities listed to\n",
    "the left of the vertical axis. The horizontal axis corresponds to the counts\n",
    "for every ethnicity.  You should see the more common ethnicities (ethnicities\n",
    "with higher counts) appear at the bottom.\n",
    "\n",
    "Be careful - here you are about to use one of the `plot.` methods of the\n",
    "`recoded_eth_counts` *series*.  In the earlier section, you may have used a\n",
    "`plot.` method of a *data frame*.   These are not quite the same.  For example,\n",
    "in a data frame, we have to tell the method which columns to use for the plot.\n",
    "For the series, there is only one column, so the method will not need the same\n",
    "information.  You can check what information the method needs by making a new\n",
    "cell and running `recoded_eth_counts.plot.eg_method?` to show the help for your\n",
    "method (replace `eg_method` by the name of the method you are using)."
   ]
  },
  {
   "cell_type": "code",
   "execution_count": null,
   "id": "589e034c",
   "metadata": {},
   "outputs": [],
   "source": [
    "#- Use a \"plot.\" method of \"recoded_eth_counts\" to show a\n",
    "#- horizontal bar chart of the counts for each ethnicity.\n",
    "#- The ethnicity should display on the vertical axis\n",
    "#- and the count on the horizontal axis.\n",
    "#- 3 marks / 100 (total 37 so far)\n",
    "recoded_eth_counts..."
   ]
  },
  {
   "cell_type": "markdown",
   "id": "726062b4",
   "metadata": {},
   "source": [
    "Notice that some of values in `recode_eth` are missing.  We can tell, by comparing the output of the `.count` method to the number of values.  `.count` only counts valid values, so the difference between `.count` and the number of values is the number of missing values."
   ]
  },
  {
   "cell_type": "code",
   "execution_count": null,
   "id": "a58e9e6e",
   "metadata": {},
   "outputs": [],
   "source": [
    "print('Number of valid values in \"recoded_eth\"', recoded_eth.count())\n",
    "print('Number of values in \"recoded_eth\"', len(recoded_eth))"
   ]
  },
  {
   "cell_type": "markdown",
   "id": "c8f5b407",
   "metadata": {},
   "source": [
    "Values are missing for stop-search incidents where the officer did not record\n",
    "the ethnicity of the suspect.\n",
    "\n",
    "The missing values are going to be a problem for us later on, because we can\n",
    "only analyze ethnicities for the stop and search incidents when we have a\n",
    "recorded ethnicity.\n",
    "\n",
    "In fact, we will later be interested in the \"Outcome\" of each stop-search incident.  Some of these values are also missing.\n",
    "\n",
    "To deal with this, we first first make a new data frame, that only has our two\n",
    "columns of interest.  Later, we will drop the rows from this data frame\n",
    "corresponding to missing values in either the recoded ethnicity or the\n",
    "\"Outcome\".\n",
    "\n",
    "Use the cell below to make the new data frame."
   ]
  },
  {
   "cell_type": "code",
   "execution_count": null,
   "id": "a2eb8175",
   "metadata": {},
   "outputs": [],
   "source": [
    "# Run this cell.\n",
    "# Make a new empty data frame\n",
    "eth_outcome = pd.DataFrame()\n",
    "# Insert the recoded_eth series.\n",
    "# The .copy() is for safety.  More later in the course.\n",
    "eth_outcome['recoded_eth'] = recoded_eth.copy()\n",
    "# Insert a copy of the outcome series from the original data frame.\n",
    "eth_outcome['Outcome'] = stop_search['Outcome'].copy()\n",
    "# Show the first five rows.\n",
    "eth_outcome.head()"
   ]
  },
  {
   "cell_type": "markdown",
   "id": "44ae4495",
   "metadata": {},
   "source": [
    "Now we need to drop all rows where *either* the `recoded_eth` column *or* the\n",
    "`Outcome` column has invalid values (values that not missing), giving a new\n",
    "data frame `valid_eth_outcome` that has no rows with any missing values.\n",
    "\n",
    "*Hint*: Investigate the `dropna` method of `eth_outcome`"
   ]
  },
  {
   "cell_type": "code",
   "execution_count": null,
   "id": "d3312b23",
   "metadata": {},
   "outputs": [],
   "source": [
    "#- Make a new variable \"valid_eth_outcome\" containing a data frame restricted\n",
    "#- to rows with no missing values.\n",
    "#- 3 marks / 100 (total 40 so far)\n",
    "valid_eth_outcome = ...\n",
    "# Show the first 5 rows\n",
    "valid_eth_outcome.head()"
   ]
  },
  {
   "cell_type": "code",
   "execution_count": null,
   "id": "c97fc351",
   "metadata": {},
   "outputs": [],
   "source": [
    "# Check you are on the right track.\n",
    "_ = ok.grade('q_12_valid_eth')"
   ]
  },
  {
   "cell_type": "markdown",
   "id": "c7ad597b",
   "metadata": {},
   "source": [
    "## Testing for racial bias in stop and search\n",
    "\n",
    "Now we want to work out whether the number of \"White - British\" people who\n",
    "were stopped and searched is compatible with the following model:\n",
    "\n",
    "**Ideal / Null model**: *Any person in the West Midlands has an equal chance\n",
    "of being stopped and searched, regardless of their ethnicity.*\n",
    "\n",
    "As we saw above, 79.2 percent of the West Midlands population is \"White British\".\n",
    "\n",
    "Therefore, our ideal model says that any given person who is stopped and\n",
    "searched has a 79.2 percent chance of being \"White British\".\n",
    "\n",
    "Is that ideal model compatible with the data that we actually see?\n",
    "\n",
    "In the next few cells, you do a simulation to find out.\n",
    "\n",
    "First we get the number of remaining stop search incidents in our table, now\n",
    "we have removed all rows with any missing values:"
   ]
  },
  {
   "cell_type": "code",
   "execution_count": null,
   "id": "b1144928",
   "metadata": {},
   "outputs": [],
   "source": [
    "# Run this cell.\n",
    "# The number of rows remaining in our table.\n",
    "n_valid_eth = len(valid_eth_outcome)\n",
    "n_valid_eth"
   ]
  },
  {
   "cell_type": "markdown",
   "id": "2e261a5d",
   "metadata": {},
   "source": [
    "Next, we calculate the *proportion* of these remaining stop-search incidents\n",
    "that have \"White British\" values for the `recoded_eth` column of\n",
    "`valid_eth_outcome` data frame.\n",
    "\n",
    "*Hint*: consider a Boolean series as the basis of your count."
   ]
  },
  {
   "cell_type": "code",
   "execution_count": null,
   "id": "526d0d60",
   "metadata": {},
   "outputs": [],
   "source": [
    "#- 3 marks / 100 (total 43 so far)\n",
    "#- Calculate the proportion of 'White British' values in \"valid_eth_outcome\".\n",
    "prop_wb = ...\n",
    "# Show the result.\n",
    "prop_wb"
   ]
  },
  {
   "cell_type": "code",
   "execution_count": null,
   "id": "1a84e7a2",
   "metadata": {},
   "outputs": [],
   "source": [
    "# Check you are on the right track.\n",
    "_ = ok.grade('q_12a_prop_wb')"
   ]
  },
  {
   "cell_type": "markdown",
   "id": "70bbe32e",
   "metadata": {},
   "source": [
    "Is this `prop_wb` proportion compatible with police doing stop-search at\n",
    "random, without regard to ethnicity?   Is it compatible with our ideal model?\n",
    "\n",
    "As for the other simulations we have done, we start with some random numbers.\n",
    "\n",
    "We will use these to simulate whether the person stopped is \"White British\" or\n",
    "not.\n",
    "\n",
    "One trial is one month's worth of stop-search data - so each trial has\n",
    "`n_valid_eth` simulated stop search incidents.  The statistic we are\n",
    "interested in for each trial is the proportion of White British people stopped\n",
    "and searched.\n",
    "\n",
    "As usual, we begin with a cell to simulate one trial (one month of\n",
    "stop-search).  Our interest is in the proportion of stop-search incidents that\n",
    "are on White British suspects. Notice we us `np.random.uniform` to give us\n",
    "`n_valid_eth` random numbers between 0 and 1, and we use those to get a 0.792\n",
    "chance of a True value.  We're expecting some proportion not very far from\n",
    "0.792.\n"
   ]
  },
  {
   "cell_type": "code",
   "execution_count": null,
   "id": "baa2dceb",
   "metadata": {},
   "outputs": [],
   "source": [
    "# Simulation of proportion from a single month of stop-search incidents.\n",
    "randoms = np.random.uniform(0, 1, size=n_valid_eth)\n",
    "wb_incidents = randoms < 0.792\n",
    "simulated_prop = np.count_nonzero(wb_incidents) / n_valid_eth\n",
    "simulated_prop"
   ]
  },
  {
   "cell_type": "markdown",
   "id": "46a38b87",
   "metadata": {},
   "source": [
    "Now for your simulation.  Use this simulation for one month to do simulations\n",
    "for 10000 months.  Store the results of the `simulated_prop` proportion for\n",
    "each of these 10000 months in an array called `sim_wb_proportions`."
   ]
  },
  {
   "cell_type": "code",
   "execution_count": null,
   "id": "dc025a4d",
   "metadata": {},
   "outputs": [],
   "source": [
    "#- 5 marks / 100 (total 48 so far)\n",
    "#- Run 10000 trials.  Collect the proportions at each trial.\n",
    "#- Store the proportions in an array sim_wb_proportions.\n",
    "sim_wb_proportions = ...\n",
    "...\n",
    "...\n",
    "...\n",
    "# Show the simulated proportions\n",
    "sim_wb_proportions"
   ]
  },
  {
   "cell_type": "code",
   "execution_count": null,
   "id": "ca8f889d",
   "metadata": {},
   "outputs": [],
   "source": [
    "# Check you are on the right track.\n",
    "_ = ok.grade('q_13_sim_wb_proportions')"
   ]
  },
  {
   "cell_type": "markdown",
   "id": "917f6bce",
   "metadata": {},
   "source": [
    "You now have an array with 10000 values, where each value is the *proportion*\n",
    "of White British people in one simulation.\n",
    "\n",
    "Plot a histogram of this array to show the spread of these proportions. Our\n",
    "simulation model means that these proportions have come about by random\n",
    "sampling, so this is the *sampling distribution of the proportion*."
   ]
  },
  {
   "cell_type": "code",
   "execution_count": null,
   "id": "008e1d8a",
   "metadata": {},
   "outputs": [],
   "source": [
    "#- Show a histogram of the proportions in the \"sim_wb_proportions\" array.\n",
    "#- 2 marks / 100 (total 50 so far)\n",
    "..."
   ]
  },
  {
   "cell_type": "markdown",
   "id": "cd3c4c7d",
   "metadata": {},
   "source": [
    "Looking at this histogram, how likely is it, that the proportion that we\n",
    "observe for the number of \"White British\" people stopped, could have come\n",
    "about under the assumptions of our ideal model?\n",
    "\n",
    "Assign either 1, 2, 3, 4, or 5 to the name `likely_no_bias` below.\n",
    "\n",
    "1. Reasonably likely.\n",
    "2. Fairly unlikely, but not unlikely enough to be surprising.\n",
    "3. Unlikely, but we still cannot be confident the model is incorrect.\n",
    "4. Highly unlikely, we have strong evidence the model is incorrect.\n",
    "5. The observed result is impossible given the model assuming no difference."
   ]
  },
  {
   "cell_type": "code",
   "execution_count": null,
   "id": "4258c153",
   "metadata": {},
   "outputs": [],
   "source": [
    "#- 5 marks / 100 (total 55 so far)\n",
    "likely_no_bias = ..."
   ]
  },
  {
   "cell_type": "markdown",
   "id": "6c3a6519",
   "metadata": {},
   "source": [
    "The next cell checks that your answer above is in the correct format. This\n",
    "test *does not* check that you answered correctly; only that you assigned a\n",
    "number successfully in the multiple-choice answer cell."
   ]
  },
  {
   "cell_type": "code",
   "execution_count": null,
   "id": "9122934a",
   "metadata": {},
   "outputs": [],
   "source": [
    "_ = ok.grade('q_14_1_no_bias')"
   ]
  },
  {
   "cell_type": "markdown",
   "id": "46eb16ed",
   "metadata": {},
   "source": [
    "## Are arrests biased?\n",
    "\n",
    "We are suspicious that the police may be more likely to stop a not-white\n",
    "person, but, if they do stop them, are they more likely to arrest them?  Do\n",
    "white people get off with a caution or no action more often than a not-white\n",
    "person?\n",
    "\n",
    "The `valid_eth_outcome` data frame has a column `Outcome`, that comes from the\n",
    "`stop_search` data frame. It gives information on what happened after the stop\n",
    "and search.\n",
    "\n",
    "Make a new variable `outcomes` that has the values from the \"Outcome\" column\n",
    "of `valid_eth_outcome`."
   ]
  },
  {
   "cell_type": "code",
   "execution_count": null,
   "id": "c63e7da0",
   "metadata": {},
   "outputs": [],
   "source": [
    "#- 2 marks / 100 (total 57 so far)\n",
    "outcomes = ...\n",
    "# Show the first five values in outcomes\n",
    "outcomes.head()"
   ]
  },
  {
   "cell_type": "code",
   "execution_count": null,
   "id": "966b460d",
   "metadata": {},
   "outputs": [],
   "source": [
    "# Check you are on the right track.\n",
    "_ = ok.grade('q_15_outcomes')"
   ]
  },
  {
   "cell_type": "markdown",
   "id": "94253165",
   "metadata": {},
   "source": [
    "As before, it is useful to have a look at the unique values in `outcomes`, and\n",
    "the counts of the number of times each value appears.\n",
    "\n",
    "Calculate and store the unique values and counts for outcomes in the variable\n",
    "`outcomes_counts`."
   ]
  },
  {
   "cell_type": "code",
   "execution_count": null,
   "id": "e8dd8535",
   "metadata": {},
   "outputs": [],
   "source": [
    "#- 2 marks / 100 (total 59 so far)\n",
    "outcomes_counts = ...\n",
    "# Show the result.\n",
    "outcomes_counts"
   ]
  },
  {
   "cell_type": "code",
   "execution_count": null,
   "id": "7715edbe",
   "metadata": {},
   "outputs": [],
   "source": [
    "# Check you are on the right track.\n",
    "_ = ok.grade('q_16_outcomes_counts')"
   ]
  },
  {
   "cell_type": "markdown",
   "id": "188ebf41",
   "metadata": {},
   "source": [
    "We want to find which of these outcomes correspond to a White British person,\n",
    "and which do not.  To do this, we need to use the `recoded_eth` column in the\n",
    "`valid_eth_outcome` data frame to select values from the `Outcome` column.\n",
    "Put the result in `white_outcomes`.\n",
    "\n",
    "*Hint*: In getting your answer, you may consider using a Boolean series that\n",
    "has True in positions corresponding to \"White British\" in `recoded_eth` column\n",
    "of `valid_eth_outcome` and False otherwise."
   ]
  },
  {
   "cell_type": "code",
   "execution_count": null,
   "id": "fa0e8c79",
   "metadata": {},
   "outputs": [],
   "source": [
    "#- 6 marks / 100 (total 65 so far)\n",
    "white_outcomes = ...\n",
    "# Show the first five values.\n",
    "white_outcomes.head()"
   ]
  },
  {
   "cell_type": "code",
   "execution_count": null,
   "id": "4ce548cb",
   "metadata": {},
   "outputs": [],
   "source": [
    "# Check you are on the right track.\n",
    "_ = ok.grade('q_19_white_outcomes')"
   ]
  },
  {
   "cell_type": "markdown",
   "id": "8164845f",
   "metadata": {},
   "source": [
    "We have previously seen the breakdown of unique outcomes, and counts of these\n",
    "outcomes, for the whole `outcomes` series.  Now do the same to show the unique\n",
    "values, and their counts, for the `white_outcomes` series."
   ]
  },
  {
   "cell_type": "code",
   "execution_count": null,
   "id": "053c472a",
   "metadata": {},
   "outputs": [],
   "source": [
    "#- Calculate the unique values and counts of the different outcomes, for\n",
    "#- White British people who were stopped and searched.\n",
    "#- 2 marks / 100 (total 67 so far)\n",
    "white_outcomes_counts = ...\n",
    "white_outcomes_counts"
   ]
  },
  {
   "cell_type": "code",
   "execution_count": null,
   "id": "8c8f6843",
   "metadata": {},
   "outputs": [],
   "source": [
    "# Check you are on the right track.\n",
    "_ = ok.grade('q_20_white_outcomes_counts')"
   ]
  },
  {
   "cell_type": "markdown",
   "id": "0aa60384",
   "metadata": {},
   "source": [
    "Calculate the proportion of stopped White British people that were arrested.\n",
    "Don't write in the numbers you've found above, use code to calculate the\n",
    "number of White British people who were arrested, and the total number of\n",
    "White British people.\n",
    "\n",
    "*Hint* - one option is to calculate a new Boolean Series on the way to your\n",
    "solution."
   ]
  },
  {
   "cell_type": "code",
   "execution_count": null,
   "id": "baddd228",
   "metadata": {},
   "outputs": [],
   "source": [
    "#- 5 marks / 100 (total 72 so far)\n",
    "white_arrested_p = ...\n",
    "white_arrested_p"
   ]
  },
  {
   "cell_type": "code",
   "execution_count": null,
   "id": "2680d511",
   "metadata": {
    "lines_to_next_cell": 2
   },
   "outputs": [],
   "source": [
    "# Check you are on the right track.\n",
    "_ = ok.grade('q_20_1_white_arrested_p')"
   ]
  },
  {
   "cell_type": "markdown",
   "id": "8a43afeb",
   "metadata": {},
   "source": [
    "We know the frequencies of different outcomes for White British people; we\n",
    "would like to calculate the same information for not-white people.\n",
    "\n",
    "Select the `outcomes` that correspond to people with some value other than\n",
    "\"White British\" as their ethnicity.  Put the result into the variable\n",
    "`not_white_outcomes`."
   ]
  },
  {
   "cell_type": "code",
   "execution_count": null,
   "id": "592fcf9e",
   "metadata": {},
   "outputs": [],
   "source": [
    "#- 5 marks / 100 (total 77 so far)\n",
    "not_white_outcomes = ...\n",
    "not_white_outcomes.head()"
   ]
  },
  {
   "cell_type": "code",
   "execution_count": null,
   "id": "452c2a3d",
   "metadata": {},
   "outputs": [],
   "source": [
    "# Check you are on the right track.\n",
    "_ = ok.grade('q_22_not_white_outcomes')"
   ]
  },
  {
   "cell_type": "markdown",
   "id": "576ccbd2",
   "metadata": {},
   "source": [
    "Calculate and show the corresponding counts for not-White British outcomes."
   ]
  },
  {
   "cell_type": "code",
   "execution_count": null,
   "id": "d40033d3",
   "metadata": {},
   "outputs": [],
   "source": [
    "#- 2 marks / 100 (total 79 so far)\n",
    "not_white_outcomes_counts = ...\n",
    "not_white_outcomes_counts"
   ]
  },
  {
   "cell_type": "code",
   "execution_count": null,
   "id": "ad0327b0",
   "metadata": {},
   "outputs": [],
   "source": [
    "# Check you are on the right track.\n",
    "_ = ok.grade('q_23_not_white_outcomes_counts')"
   ]
  },
  {
   "cell_type": "markdown",
   "id": "d276bcce",
   "metadata": {},
   "source": [
    "Calculate the proportion of not-white people who were arrested after they were\n",
    "stopped."
   ]
  },
  {
   "cell_type": "code",
   "execution_count": null,
   "id": "c7aca882",
   "metadata": {},
   "outputs": [],
   "source": [
    "#- 3 marks / 100 (total 82 so far)\n",
    "not_white_arrested_p = ...\n",
    "not_white_arrested_p"
   ]
  },
  {
   "cell_type": "code",
   "execution_count": null,
   "id": "24bb8ee0",
   "metadata": {},
   "outputs": [],
   "source": [
    "# Check you are on the right track.\n",
    "_ = ok.grade('q_23_1_not_white_arrested_p')"
   ]
  },
  {
   "cell_type": "markdown",
   "id": "6ea2cc96",
   "metadata": {},
   "source": [
    "Now we will try and work out whether there appears to be a difference between\n",
    "the arrest / don't arrest decision for White British people compared to\n",
    "not-White British people.\n",
    "\n",
    "One index of difference is the difference we observe in the probability of\n",
    "being arrested."
   ]
  },
  {
   "cell_type": "code",
   "execution_count": null,
   "id": "cfd9f2fd",
   "metadata": {},
   "outputs": [],
   "source": [
    "p_diff = white_arrested_p - not_white_arrested_p\n",
    "p_diff"
   ]
  },
  {
   "cell_type": "markdown",
   "id": "64325b6b",
   "metadata": {},
   "source": [
    "Now we need to formulate a model of these data where there is no difference in the likelihood of arrest for the White / not-White groups.\n",
    "\n",
    "We first need to calculate the number of White British and not-White British people who have valid outcomes recorded.\n",
    "\n",
    "The number of White British people in this table:"
   ]
  },
  {
   "cell_type": "code",
   "execution_count": null,
   "id": "a934ed60",
   "metadata": {},
   "outputs": [],
   "source": [
    "n_wb = np.count_nonzero(valid_eth_outcome['recoded_eth'] == 'White British')\n",
    "n_wb"
   ]
  },
  {
   "cell_type": "markdown",
   "id": "d0716962",
   "metadata": {},
   "source": [
    "The number of not-White British people in this table:"
   ]
  },
  {
   "cell_type": "code",
   "execution_count": null,
   "id": "fa820dd7",
   "metadata": {},
   "outputs": [],
   "source": [
    "n_nwb = np.count_nonzero(valid_eth_outcome['recoded_eth'] != 'White British')\n",
    "n_nwb"
   ]
  },
  {
   "cell_type": "markdown",
   "id": "f9571b4b",
   "metadata": {},
   "source": [
    "The total number of arrests from this table:"
   ]
  },
  {
   "cell_type": "code",
   "execution_count": null,
   "id": "118eaaa1",
   "metadata": {},
   "outputs": [],
   "source": [
    "n_arrests = np.count_nonzero(valid_eth_outcome['Outcome'] == 'Arrest')\n",
    "n_arrests"
   ]
  },
  {
   "cell_type": "markdown",
   "id": "bdad1f8d",
   "metadata": {},
   "source": [
    "The overall probability of being arrested (regardless of ethnicity):"
   ]
  },
  {
   "cell_type": "code",
   "execution_count": null,
   "id": "416978bd",
   "metadata": {},
   "outputs": [],
   "source": [
    "p_arrest = n_arrests / len(valid_eth_outcome)\n",
    "p_arrest"
   ]
  },
  {
   "cell_type": "markdown",
   "id": "26244c5c",
   "metadata": {},
   "source": [
    "Our model is that the outcome for any given stop and search incident is random.\n",
    "That is, for any given stop and search there is a `p_arrest` probability of\n",
    "being arrested.\n",
    "\n",
    "Here I simulate the White British outcomes by taking `n_wb` random numbers, checking whether they are less than `p_arrest`, and taking True to mean a simulated arrest."
   ]
  },
  {
   "cell_type": "code",
   "execution_count": null,
   "id": "88ecd74d",
   "metadata": {},
   "outputs": [],
   "source": [
    "wb_randoms = np.random.uniform(0, 1, size=n_wb)\n",
    "n_wb_arrests = np.count_nonzero(wb_randoms < p_arrest)\n",
    "n_wb_arrests"
   ]
  },
  {
   "cell_type": "markdown",
   "id": "22b010e1",
   "metadata": {},
   "source": [
    "I can do the same for the not-White British, assuming the same probability of arrest:"
   ]
  },
  {
   "cell_type": "code",
   "execution_count": null,
   "id": "63eb07fe",
   "metadata": {},
   "outputs": [],
   "source": [
    "nwb_randoms = np.random.uniform(0, 1, size=n_nwb)\n",
    "n_nwb_arrests = np.count_nonzero(nwb_randoms < p_arrest)\n",
    "n_nwb_arrests"
   ]
  },
  {
   "cell_type": "markdown",
   "id": "3a1575f3",
   "metadata": {},
   "source": [
    "Now your turn.  Do 10000 simulations, where each simulation simulates arrests for the White British group, the not White-British group, calculates the proportions for each, and finally calculates the difference in proportions, storing these differences in a variable `p_differences`:"
   ]
  },
  {
   "cell_type": "code",
   "execution_count": null,
   "id": "d5c8b4ba",
   "metadata": {},
   "outputs": [],
   "source": [
    "#- 15 marks / 100 (total 97 so far)\n",
    "p_differences = ...\n",
    "# Show the first five differences\n",
    "p_differences[:5]"
   ]
  },
  {
   "cell_type": "code",
   "execution_count": null,
   "id": "ba545647",
   "metadata": {},
   "outputs": [],
   "source": [
    "# Test you are on the right track.\n",
    "_ = ok.grade('q_23_2_p_differences')"
   ]
  },
  {
   "cell_type": "markdown",
   "id": "1e1e860e",
   "metadata": {},
   "source": [
    "You might want to do a histogram of these differences to help you answer the question below:"
   ]
  },
  {
   "cell_type": "code",
   "execution_count": null,
   "id": "f152dce4",
   "metadata": {},
   "outputs": [],
   "source": [
    "# Code to plot a histogram of p_differences"
   ]
  },
  {
   "cell_type": "markdown",
   "id": "3e7b5293",
   "metadata": {},
   "source": [
    "Make any other cells you would like, to help you answer the question.\n",
    "\n",
    "Based on the evidence above, how likely is it that, in the long run, \"White\n",
    "British\" people have the same chance of arrest after they are stopped and\n",
    "searched as do not-White British people?\n",
    "\n",
    "Assign either 1, 2, 3, 4, or 5 to the name `likely_outcome_same` below.\n",
    "\n",
    "1. Reasonably likely.\n",
    "2. Fairly unlikely, but not unlikely enough to be surprising.\n",
    "3. Unlikely, but we still have some doubt that model is incorrect.\n",
    "4. Highly unlikely, we have strong evidence the model is incorrect.\n",
    "5. The observed result is impossible given the model assuming no difference."
   ]
  },
  {
   "cell_type": "code",
   "execution_count": null,
   "id": "e71490f4",
   "metadata": {},
   "outputs": [],
   "source": [
    "#- 3 marks / 100 (total 100 so far)\n",
    "likely_outcome_same = ..."
   ]
  },
  {
   "cell_type": "markdown",
   "id": "aa08ee97",
   "metadata": {},
   "source": [
    "The next cell checks that your answer above is in the correct format. This\n",
    "test *does not* check that you answered correctly; only that you assigned a\n",
    "number successfully in the multiple-choice answer cell."
   ]
  },
  {
   "cell_type": "code",
   "execution_count": null,
   "id": "262ab250",
   "metadata": {},
   "outputs": [],
   "source": [
    "_ = ok.grade('q_24_outcome_same')"
   ]
  },
  {
   "cell_type": "markdown",
   "id": "e07e740e",
   "metadata": {},
   "source": [
    "## Done."
   ]
  },
  {
   "cell_type": "markdown",
   "id": "31459382",
   "metadata": {},
   "source": [
    "Congratulations, you're done with the assignment!  Be sure to:\n",
    "\n",
    "- **run all the tests** (the next cell has a shortcut for that),\n",
    "- **Save and Checkpoint** from the `File` menu,\n",
    "\n",
    "**Remember - the tests only test that your answers are compatible with the\n",
    "right answer.  For example, they may test whether your answer is in the right\n",
    "format.  They do not test whether your answer is correct**."
   ]
  },
  {
   "cell_type": "code",
   "execution_count": null,
   "id": "f8a0bd49",
   "metadata": {},
   "outputs": [],
   "source": [
    "# For your convenience, you can run this cell to run all the tests at once!\n",
    "import os\n",
    "_ = [ok.grade(q[:-3]) for q in os.listdir(\"tests\") if q.startswith('q')]"
   ]
  }
 ],
 "metadata": {
  "jupytext": {
   "notebook_metadata_filter": "all,-language_info",
   "split_at_heading": true,
   "text_representation": {
    "extension": ".Rmd",
    "format_name": "rmarkdown",
    "format_version": "1.2",
    "jupytext_version": "1.10.3"
   }
  },
  "kernelspec": {
   "display_name": "Python 3 (ipykernel)",
   "language": "python",
   "name": "python3"
  }
 },
 "nbformat": 4,
 "nbformat_minor": 5
}
